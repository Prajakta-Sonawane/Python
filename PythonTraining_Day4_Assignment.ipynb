{
 "cells": [
  {
   "cell_type": "code",
   "execution_count": 10,
   "metadata": {},
   "outputs": [
    {
     "name": "stdout",
     "output_type": "stream",
     "text": [
      " A A A A A A A A A\t\n",
      " A\t\t A\n",
      " A\t\t A\n",
      " A\t\t A\n",
      " A\t\t A\n",
      " A\t\t A\n",
      " A A A A A A A A A\n",
      "\n"
     ]
    }
   ],
   "source": [
    "# Square\n",
    "print(' A A A A A A A A A\\t\\n','A\\t\\t A\\n','A\\t\\t A\\n','A\\t\\t A\\n','A\\t\\t A\\n','A\\t\\t A\\n','A A A A A A A A A\\n')"
   ]
  },
  {
   "cell_type": "code",
   "execution_count": 44,
   "metadata": {},
   "outputs": [
    {
     "name": "stdout",
     "output_type": "stream",
     "text": [
      " R R R R R R R R R R R R R\t\n",
      " R\t\t\t R\n",
      " R\t\t\t R\n",
      " R\t\t\t R\n",
      " R\t\t\t R\n",
      " R R R R R R R R R R R R R\n",
      "\n"
     ]
    }
   ],
   "source": [
    "# Rectangle\n",
    "print(' R R R R R R R R R R R R R\\t\\n','R\\t\\t\\t R\\n','R\\t\\t\\t R\\n','R\\t\\t\\t R\\n','R\\t\\t\\t R\\n','R R R R R R R R R R R R R\\n')"
   ]
  },
  {
   "cell_type": "code",
   "execution_count": 160,
   "metadata": {},
   "outputs": [
    {
     "name": "stdout",
     "output_type": "stream",
     "text": [
      "\t\t\tC  C  C\n",
      " \t\t     C\t\t C\n",
      " \t\t  C\t\t    C\n",
      " \t\tC\t\t      C\n",
      " \t      C\t\t\t\tC\n",
      " \t      C\t\t\t\tC\n",
      " \t\tC\t\t      C\n",
      " \t\t  C\t\t    C\n",
      " \t\t     C\t\t C\n",
      " \t\t\tC  C  C\n",
      "\n"
     ]
    }
   ],
   "source": [
    "# Circle\n",
    "print('\\t\\t\\tC  C  C\\n','\\t\\t     C\\t\\t C\\n','\\t\\t  C\\t\\t    C\\n','\\t\\tC\\t\\t      C\\n','\\t      C\\t\\t\\t\\tC\\n','\\t      C\\t\\t\\t\\tC\\n','\\t\\tC\\t\\t      C\\n','\\t\\t  C\\t\\t    C\\n','\\t\\t     C\\t\\t C\\n','\\t\\t\\tC  C  C\\n')"
   ]
  },
  {
   "cell_type": "code",
   "execution_count": 138,
   "metadata": {},
   "outputs": [
    {
     "name": "stdout",
     "output_type": "stream",
     "text": [
      "\t\tT\t\n",
      " \t     T\t   T\t\n",
      " \t   T\t     T\t\n",
      " \tT\t\tT\t\n",
      "      T\t\t\t  T\t\n",
      "    T\t\t\t    T\t\n",
      "  T T T T T T T T T T T T T T T\n",
      "\n"
     ]
    }
   ],
   "source": [
    "# Triangle\n",
    "print('\\t\\tT\\t\\n','\\t     T\\t   T\\t\\n','\\t   T\\t     T\\t\\n','\\tT\\t\\tT\\t\\n','     T\\t\\t\\t  T\\t\\n','   T\\t\\t\\t    T\\t\\n',' T T T T T T T T T T T T T T T\\n')"
   ]
  },
  {
   "cell_type": "code",
   "execution_count": 1,
   "metadata": {},
   "outputs": [
    {
     "name": "stdout",
     "output_type": "stream",
     "text": [
      "The sum of 37.69 and 17.73 is 55.42\n"
     ]
    }
   ],
   "source": [
    "# 1)Python program to add two numbers.\n",
    "num1 = 37.69\n",
    "num2 = 17.73\n",
    "sum = num1 + num2\n",
    "print('The sum of {0} and {1} is {2}'.format(num1,num2,sum))"
   ]
  },
  {
   "cell_type": "code",
   "execution_count": 2,
   "metadata": {},
   "outputs": [
    {
     "name": "stdout",
     "output_type": "stream",
     "text": [
      "Enter first number: 40.6\n",
      "Enter second number: 18.56\n",
      "59.16\n"
     ]
    }
   ],
   "source": [
    "# 2)Python program to add two numbers with user input.\n",
    "num1 = input('Enter first number: ')\n",
    "num2 = input('Enter second number: ')\n",
    "sum = float(num1) + float(num2)\n",
    "print(sum)"
   ]
  },
  {
   "cell_type": "code",
   "execution_count": 4,
   "metadata": {},
   "outputs": [
    {
     "name": "stdout",
     "output_type": "stream",
     "text": [
      "The substraction of 12.4 and 43.54 is -31.14\n"
     ]
    }
   ],
   "source": [
    "# 3)program to substract two numbers\n",
    "num1 = 12.4\n",
    "num2 = 43.54\n",
    "print('The substraction of {0} and {1} is {2}'.format(num1,num2,num1 - num2))"
   ]
  },
  {
   "cell_type": "code",
   "execution_count": 6,
   "metadata": {},
   "outputs": [
    {
     "name": "stdout",
     "output_type": "stream",
     "text": [
      "Enter first number: 12.4\n",
      "Enter second number: 5\n",
      "The substraction is 7.4\n"
     ]
    }
   ],
   "source": [
    "# 4)Program to substract two numbers with user input\n",
    "print('The substraction is %.1f'%(float(input('Enter first number: ')) - float(input('Enter second number: '))))"
   ]
  },
  {
   "cell_type": "code",
   "execution_count": 7,
   "metadata": {},
   "outputs": [
    {
     "name": "stdout",
     "output_type": "stream",
     "text": [
      "The multiplication of 12 and 8 is 96\n"
     ]
    }
   ],
   "source": [
    "# 5)Program to multiply two numbers.\n",
    "num1 = 12\n",
    "num2 = 8\n",
    "print('The multiplication of {0} and {1} is {2}'.format(num1,num2,num1 * num2))"
   ]
  },
  {
   "cell_type": "code",
   "execution_count": 11,
   "metadata": {},
   "outputs": [
    {
     "name": "stdout",
     "output_type": "stream",
     "text": [
      "Enter first number: 16\n",
      "Enter second number:7\n",
      "The multiplication is 112.0\n"
     ]
    }
   ],
   "source": [
    "# 6)Program to multiply two numbers with user input.\n",
    "print('The multiplication is %.1f'%(float(input('Enter first number: ')) * float(input('Enter second number:'))))"
   ]
  },
  {
   "cell_type": "code",
   "execution_count": 12,
   "metadata": {},
   "outputs": [
    {
     "name": "stdout",
     "output_type": "stream",
     "text": [
      "The division of 54.6 and 12.3 is 4.439024390243902\n"
     ]
    }
   ],
   "source": [
    "# 7)Program to divide two numbers.\n",
    "num1 = 54.6\n",
    "num2 = 12.3\n",
    "print('The division of {0} and {1} is {2}'.format(num1,num2,num1 / num2))"
   ]
  },
  {
   "cell_type": "code",
   "execution_count": 2,
   "metadata": {},
   "outputs": [
    {
     "name": "stdout",
     "output_type": "stream",
     "text": [
      "Enter first number: 16\n",
      "Enter second number: 4\n",
      "The division is 4.0\n"
     ]
    }
   ],
   "source": [
    "# 8)Program to divide two numbers with user input.\n",
    "print('The division is %.1f'%(float(input('Enter first number: ')) / float(input('Enter second number: '))))"
   ]
  },
  {
   "cell_type": "code",
   "execution_count": 12,
   "metadata": {
    "scrolled": true
   },
   "outputs": [
    {
     "name": "stdout",
     "output_type": "stream",
     "text": [
      "['Good', 'is', 'morning,', 'my', 'name', 'prajakta.', 'programming.', 'python', 'the', 'to', 'welcome']\n"
     ]
    }
   ],
   "source": [
    "# 9) Program to sort words in alphabetical order.\n",
    "mystring = 'Good morning, my name is prajakta. welcome to the python programming.'\n",
    "words = mystring.split()\n",
    "words.sort()\n",
    "print(words)"
   ]
  },
  {
   "cell_type": "code",
   "execution_count": 20,
   "metadata": {},
   "outputs": [
    {
     "name": "stdout",
     "output_type": "stream",
     "text": [
      "In the given string nouns are:  World Python Language\n"
     ]
    }
   ],
   "source": [
    "# 10) Program for to captalize the first letter of noun in given string.\n",
    "mystring = 'hello to all welcome to the  world of python and let us all come together to learn new language'\n",
    "words = mystring.split()\n",
    "print('In the given string nouns are: ',words[6].title() , words[8].title() , words[18].title())"
   ]
  },
  {
   "cell_type": "code",
   "execution_count": 26,
   "metadata": {},
   "outputs": [
    {
     "name": "stdout",
     "output_type": "stream",
     "text": [
      "The value of x after swapping: 21.2\n",
      "The value of y after swapping: 54.3\n"
     ]
    }
   ],
   "source": [
    "# 11)Program to swapping of two numbers.\n",
    "x = 54.3\n",
    "y = 21.2\n",
    "temp = x\n",
    "x = y\n",
    "y = temp\n",
    "print('The value of x after swapping: {0}'.format(x))\n",
    "print('The value of y after swapping: {0}'.format(y))"
   ]
  },
  {
   "cell_type": "code",
   "execution_count": 28,
   "metadata": {},
   "outputs": [
    {
     "name": "stdout",
     "output_type": "stream",
     "text": [
      "Maximum number is:  65.43\n"
     ]
    }
   ],
   "source": [
    "# 12)Program to find maximum of two numbers.\n",
    "a = 65.43\n",
    "b = 32.3\n",
    "print('Maximum number is: ',max(a,b))"
   ]
  },
  {
   "cell_type": "code",
   "execution_count": 29,
   "metadata": {},
   "outputs": [
    {
     "name": "stdout",
     "output_type": "stream",
     "text": [
      "Enter first number: 65.8\n",
      "Enter second number: 43.7\n",
      "Enter third number: 99.4\n",
      "Maximum number is:  99.4\n"
     ]
    }
   ],
   "source": [
    "# 13)Program to find maximum of three numbers with user input.\n",
    "num1 = input('Enter first number: ')\n",
    "num2 = input('Enter second number: ')\n",
    "num3 = input('Enter third number: ')\n",
    "print('Maximum number is: ',float(max(num1,num2,num3)))"
   ]
  },
  {
   "cell_type": "code",
   "execution_count": 34,
   "metadata": {},
   "outputs": [
    {
     "name": "stdout",
     "output_type": "stream",
     "text": [
      "Enter first number: 43.7\n",
      "Enter second number: 21.2\n",
      "Minimum number is: 21.200000\n"
     ]
    }
   ],
   "source": [
    "# 14)Program to find minimum of two numbers with user input.\n",
    "print('Minimum number is: %1f'%(float(min(float(input('Enter first number: ')),float(input('Enter second number: '))))))"
   ]
  },
  {
   "cell_type": "code",
   "execution_count": 35,
   "metadata": {},
   "outputs": [
    {
     "name": "stdout",
     "output_type": "stream",
     "text": [
      "Minimum number is:  32.4\n"
     ]
    }
   ],
   "source": [
    "# 15)Program to find minimum of three numbers.\n",
    "x = 43.5\n",
    "y = 32.4\n",
    "z = 76.4\n",
    "print('Minimum number is: ',min(x,y,z))"
   ]
  },
  {
   "cell_type": "code",
   "execution_count": null,
   "metadata": {},
   "outputs": [],
   "source": []
  }
 ],
 "metadata": {
  "kernelspec": {
   "display_name": "Python 3",
   "language": "python",
   "name": "python3"
  },
  "language_info": {
   "codemirror_mode": {
    "name": "ipython",
    "version": 3
   },
   "file_extension": ".py",
   "mimetype": "text/x-python",
   "name": "python",
   "nbconvert_exporter": "python",
   "pygments_lexer": "ipython3",
   "version": "3.8.5"
  }
 },
 "nbformat": 4,
 "nbformat_minor": 4
}
