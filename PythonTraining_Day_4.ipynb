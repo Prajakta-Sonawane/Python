{
 "cells": [
  {
   "cell_type": "code",
   "execution_count": 18,
   "metadata": {},
   "outputs": [
    {
     "name": "stdout",
     "output_type": "stream",
     "text": [
      "   prajakta   \n"
     ]
    }
   ],
   "source": [
    "name = '   prajakta   '\n",
    "print(name)"
   ]
  },
  {
   "cell_type": "code",
   "execution_count": 6,
   "metadata": {},
   "outputs": [
    {
     "data": {
      "text/plain": [
       "str"
      ]
     },
     "execution_count": 6,
     "metadata": {},
     "output_type": "execute_result"
    }
   ],
   "source": [
    "type(name)"
   ]
  },
  {
   "cell_type": "code",
   "execution_count": 19,
   "metadata": {},
   "outputs": [
    {
     "name": "stdout",
     "output_type": "stream",
     "text": [
      "parul\n"
     ]
    }
   ],
   "source": [
    "name = 'parul'\n",
    "print(name)"
   ]
  },
  {
   "cell_type": "code",
   "execution_count": 15,
   "metadata": {},
   "outputs": [
    {
     "name": "stdout",
     "output_type": "stream",
     "text": [
      "Parul\n"
     ]
    }
   ],
   "source": [
    "print(name.title())"
   ]
  },
  {
   "cell_type": "code",
   "execution_count": 20,
   "metadata": {},
   "outputs": [
    {
     "name": "stdout",
     "output_type": "stream",
     "text": [
      "Kirti Kumar\n"
     ]
    }
   ],
   "source": [
    "fullname='kirti kumar'\n",
    "print(fullname.title())"
   ]
  },
  {
   "cell_type": "code",
   "execution_count": 21,
   "metadata": {},
   "outputs": [
    {
     "name": "stdout",
     "output_type": "stream",
     "text": [
      "PRAJAKTA SONAWANE\n"
     ]
    }
   ],
   "source": [
    "fullname='PRAJAKTA SONAWANE'\n",
    "print(fullname)"
   ]
  },
  {
   "cell_type": "code",
   "execution_count": 22,
   "metadata": {},
   "outputs": [
    {
     "name": "stdout",
     "output_type": "stream",
     "text": [
      "PRAJAKTA SONAWANE\n"
     ]
    }
   ],
   "source": [
    "print(fullname.upper())"
   ]
  },
  {
   "cell_type": "code",
   "execution_count": 23,
   "metadata": {},
   "outputs": [
    {
     "name": "stdout",
     "output_type": "stream",
     "text": [
      "prajakta sonawane\n"
     ]
    }
   ],
   "source": [
    "print(fullname.lower())"
   ]
  },
  {
   "cell_type": "code",
   "execution_count": null,
   "metadata": {},
   "outputs": [],
   "source": [
    "# f string\n",
    "#custom words---{}"
   ]
  },
  {
   "cell_type": "code",
   "execution_count": 25,
   "metadata": {},
   "outputs": [
    {
     "name": "stdout",
     "output_type": "stream",
     "text": [
      "prajakta sonawane\n"
     ]
    }
   ],
   "source": [
    "firstname='prajakta'\n",
    "lastname='sonawane'\n",
    "sentence=f\"{firstname} {lastname}\"\n",
    "print(sentence)\n"
   ]
  },
  {
   "cell_type": "code",
   "execution_count": 26,
   "metadata": {},
   "outputs": [
    {
     "name": "stdout",
     "output_type": "stream",
     "text": [
      "Prajakta Sonawane\n"
     ]
    }
   ],
   "source": [
    "sentence=f\"{firstname.title()} {lastname.title()}\"\n",
    "print(sentence)"
   ]
  },
  {
   "cell_type": "code",
   "execution_count": 27,
   "metadata": {},
   "outputs": [
    {
     "name": "stdout",
     "output_type": "stream",
     "text": [
      "PRAJAKTA SONAWANE\n"
     ]
    }
   ],
   "source": [
    "sentence=f\"{firstname.upper()} {lastname.upper()}\"\n",
    "print(sentence)"
   ]
  },
  {
   "cell_type": "code",
   "execution_count": 28,
   "metadata": {},
   "outputs": [
    {
     "name": "stdout",
     "output_type": "stream",
     "text": [
      "PRAJAKTA sonawane\n"
     ]
    }
   ],
   "source": [
    "sentence=f\"{firstname.upper()} {lastname.lower()}\"\n",
    "print(sentence)"
   ]
  },
  {
   "cell_type": "code",
   "execution_count": 29,
   "metadata": {},
   "outputs": [
    {
     "name": "stdout",
     "output_type": "stream",
     "text": [
      "fav_sub C++ C Java Python Oracle\n"
     ]
    }
   ],
   "source": [
    "print('fav_sub', 'C++', 'C', 'Java', 'Python', 'Oracle')"
   ]
  },
  {
   "cell_type": "code",
   "execution_count": 30,
   "metadata": {},
   "outputs": [
    {
     "name": "stdout",
     "output_type": "stream",
     "text": [
      "fav_sub C++ C Java Python Oracle\n"
     ]
    }
   ],
   "source": [
    "print('fav_sub','C++','C','Java','Python','Oracle')"
   ]
  },
  {
   "cell_type": "code",
   "execution_count": 31,
   "metadata": {},
   "outputs": [
    {
     "name": "stdout",
     "output_type": "stream",
     "text": [
      "fav_sub\n",
      " C++\n",
      " C\n",
      " Java\n",
      " Python\n",
      " Oracle\n",
      "\n"
     ]
    }
   ],
   "source": [
    "print('fav_sub\\n', 'C++\\n', 'C\\n', 'Java\\n','Python\\n', 'Oracle\\n')"
   ]
  },
  {
   "cell_type": "code",
   "execution_count": 32,
   "metadata": {},
   "outputs": [
    {
     "name": "stdout",
     "output_type": "stream",
     "text": [
      "fav_sub\n",
      " C++\n",
      " oop C\n",
      " Javascript Java\n",
      " Python\n",
      " Oracle\n",
      "\n"
     ]
    }
   ],
   "source": [
    "print('fav_sub\\n', 'C++\\n', 'oop','C\\n', 'Javascript','Java\\n','Python\\n', 'Oracle\\n')"
   ]
  },
  {
   "cell_type": "code",
   "execution_count": 37,
   "metadata": {},
   "outputs": [
    {
     "name": "stdout",
     "output_type": "stream",
     "text": [
      "fav_sub\n",
      " C oops C++\n",
      " Java Javascript\n",
      " Python\n",
      " Oracle\n",
      "\n"
     ]
    }
   ],
   "source": [
    "print('fav_sub\\n', 'C','oops','C++\\n', 'Java', 'Javascript\\n','Python\\n', 'Oracle\\n')"
   ]
  },
  {
   "cell_type": "code",
   "execution_count": 38,
   "metadata": {},
   "outputs": [
    {
     "name": "stdout",
     "output_type": "stream",
     "text": [
      "fav_sub\n",
      " C C++ oops\n",
      "\t Java\n",
      "\t Javascript\n",
      " Python\n",
      " Oracle\n",
      "\n"
     ]
    }
   ],
   "source": [
    "print('fav_sub\\n', 'C','C++','oops\\n\\t', 'Java\\n\\t', 'Javascript\\n','Python\\n', 'Oracle\\n')"
   ]
  },
  {
   "cell_type": "code",
   "execution_count": 53,
   "metadata": {},
   "outputs": [
    {
     "name": "stdout",
     "output_type": "stream",
     "text": [
      "fav_sub\n",
      "  C \n",
      "\t C++\n",
      "\t\t oops\n",
      "\t\t\t Java\n",
      "\t Javascript\n",
      " Python\n",
      " Oracle\n"
     ]
    }
   ],
   "source": [
    "print('fav_sub\\n', ' C \\n\\t','C++\\n\\t\\t','oops\\n\\t\\t\\t', 'Java\\n\\t', 'Javascript\\n','Python\\n', 'Oracle')"
   ]
  },
  {
   "cell_type": "code",
   "execution_count": 54,
   "metadata": {},
   "outputs": [
    {
     "name": "stdout",
     "output_type": "stream",
     "text": [
      "raj\n"
     ]
    }
   ],
   "source": [
    "name='raj'\n",
    "print(name)"
   ]
  },
  {
   "cell_type": "code",
   "execution_count": 55,
   "metadata": {},
   "outputs": [
    {
     "name": "stdout",
     "output_type": "stream",
     "text": [
      "         prajakta\n"
     ]
    }
   ],
   "source": [
    "name='         prajakta'\n",
    "print(name)"
   ]
  },
  {
   "cell_type": "code",
   "execution_count": 56,
   "metadata": {},
   "outputs": [
    {
     "data": {
      "text/plain": [
       "'prajakta'"
      ]
     },
     "execution_count": 56,
     "metadata": {},
     "output_type": "execute_result"
    }
   ],
   "source": [
    "name.lstrip() #lstrip()-----for removing left side space\n",
    "              #rstrip()-----for removing righgt side space\n",
    "              #strip()------for removing both left and right side space"
   ]
  },
  {
   "cell_type": "code",
   "execution_count": 60,
   "metadata": {},
   "outputs": [
    {
     "data": {
      "text/plain": [
       "'prajakta      '"
      ]
     },
     "execution_count": 60,
     "metadata": {},
     "output_type": "execute_result"
    }
   ],
   "source": [
    "name='     prajakta      '\n",
    "name.lstrip()"
   ]
  },
  {
   "cell_type": "code",
   "execution_count": 61,
   "metadata": {},
   "outputs": [
    {
     "data": {
      "text/plain": [
       "'     prajakta'"
      ]
     },
     "execution_count": 61,
     "metadata": {},
     "output_type": "execute_result"
    }
   ],
   "source": [
    "name.rstrip()"
   ]
  },
  {
   "cell_type": "code",
   "execution_count": 62,
   "metadata": {},
   "outputs": [
    {
     "data": {
      "text/plain": [
       "'prajakta'"
      ]
     },
     "execution_count": 62,
     "metadata": {},
     "output_type": "execute_result"
    }
   ],
   "source": [
    "name.strip()"
   ]
  },
  {
   "cell_type": "code",
   "execution_count": null,
   "metadata": {},
   "outputs": [],
   "source": [
    "# Introduction to list data type\n",
    "# Defination: A list is a collection of items in a particular order\n",
    "# Classification: It is classified as mutable datatype\n",
    "# List datatype-----[]"
   ]
  },
  {
   "cell_type": "code",
   "execution_count": 63,
   "metadata": {},
   "outputs": [
    {
     "name": "stdout",
     "output_type": "stream",
     "text": [
      "['ram', 'chitra', 'neel', 'khushal', 'harsha', 'krishna', 'prajakta']\n"
     ]
    }
   ],
   "source": [
    "students = ['ram','chitra','neel','khushal','harsha','krishna','prajakta']\n",
    "print(students)"
   ]
  },
  {
   "cell_type": "code",
   "execution_count": 64,
   "metadata": {},
   "outputs": [
    {
     "data": {
      "text/plain": [
       "list"
      ]
     },
     "execution_count": 64,
     "metadata": {},
     "output_type": "execute_result"
    }
   ],
   "source": [
    "type(students)"
   ]
  },
  {
   "cell_type": "code",
   "execution_count": 65,
   "metadata": {},
   "outputs": [
    {
     "name": "stdout",
     "output_type": "stream",
     "text": [
      "('ram', 'chitra', 'neel', 'khushal', 'harsha', 'krishna', 'prajakta')\n"
     ]
    }
   ],
   "source": [
    "students = ('ram','chitra','neel','khushal','harsha','krishna','prajakta')\n",
    "print(students)"
   ]
  },
  {
   "cell_type": "code",
   "execution_count": 66,
   "metadata": {},
   "outputs": [
    {
     "data": {
      "text/plain": [
       "tuple"
      ]
     },
     "execution_count": 66,
     "metadata": {},
     "output_type": "execute_result"
    }
   ],
   "source": [
    "type(students)"
   ]
  },
  {
   "cell_type": "code",
   "execution_count": null,
   "metadata": {},
   "outputs": [],
   "source": [
    "# Indexing :\n",
    "# What is Indexing?---\n",
    "# always start with 0\n",
    "# 'ram','chitra','neel','khushal','harsha','krishna','prajakta'\n",
    "#   0      1       2        3         4       5          6"
   ]
  },
  {
   "cell_type": "code",
   "execution_count": 67,
   "metadata": {},
   "outputs": [
    {
     "name": "stdout",
     "output_type": "stream",
     "text": [
      "neel\n"
     ]
    }
   ],
   "source": [
    "print(students[2])"
   ]
  },
  {
   "cell_type": "code",
   "execution_count": 68,
   "metadata": {},
   "outputs": [
    {
     "name": "stdout",
     "output_type": "stream",
     "text": [
      "Neel\n"
     ]
    }
   ],
   "source": [
    "print(students[2].title())"
   ]
  },
  {
   "cell_type": "code",
   "execution_count": 69,
   "metadata": {},
   "outputs": [
    {
     "name": "stdout",
     "output_type": "stream",
     "text": [
      "['prajakta', 'rinku', 'mansi', 'sadhana', 'shweta', 'ashwini', 'ruchita', 'roshni', 'nilesh', 'nidhi']\n"
     ]
    }
   ],
   "source": [
    "student=['prajakta','rinku','mansi','sadhana','shweta','ashwini','ruchita','roshni','nilesh','nidhi']\n",
    "print(student)"
   ]
  },
  {
   "cell_type": "code",
   "execution_count": 71,
   "metadata": {},
   "outputs": [
    {
     "name": "stdout",
     "output_type": "stream",
     "text": [
      "rinku sadhana ruchita nidhi\n"
     ]
    }
   ],
   "source": [
    "print(student[1],student[3],student[6],student[9])"
   ]
  },
  {
   "cell_type": "code",
   "execution_count": null,
   "metadata": {},
   "outputs": [],
   "source": [
    "# How to add a new element in list?\n",
    "# How to modify element in the list?\n",
    "# How to delete the element in list?"
   ]
  },
  {
   "cell_type": "code",
   "execution_count": null,
   "metadata": {},
   "outputs": [],
   "source": [
    "# add an element"
   ]
  },
  {
   "cell_type": "code",
   "execution_count": 72,
   "metadata": {},
   "outputs": [
    {
     "name": "stdout",
     "output_type": "stream",
     "text": [
      "['ram', 'chitra', 'neel', 'khushal', 'harshal', 'krishna', 'prajakta', 'raju']\n"
     ]
    }
   ],
   "source": [
    "students=['ram','chitra','neel','khushal','harshal','krishna','prajakta']\n",
    "# Requirement----add raju to the list\n",
    "students.append('raju')\n",
    "print(students)"
   ]
  },
  {
   "cell_type": "code",
   "execution_count": 73,
   "metadata": {},
   "outputs": [
    {
     "name": "stdout",
     "output_type": "stream",
     "text": [
      "['ram', 'chitra', 'neel', 'khushal', 'harshal', 'krishna', 'prajakta', 'raju', 'nisha']\n"
     ]
    }
   ],
   "source": [
    "students.append('nisha') # append is add the element in the last position\n",
    "print(students)"
   ]
  },
  {
   "cell_type": "code",
   "execution_count": 74,
   "metadata": {},
   "outputs": [],
   "source": [
    "students.insert(2,'rohit') #rohit added in the list at positionn 2"
   ]
  },
  {
   "cell_type": "code",
   "execution_count": 75,
   "metadata": {},
   "outputs": [
    {
     "name": "stdout",
     "output_type": "stream",
     "text": [
      "['ram', 'chitra', 'rohit', 'neel', 'khushal', 'harshal', 'krishna', 'prajakta', 'raju', 'nisha']\n"
     ]
    }
   ],
   "source": [
    "print(students)"
   ]
  },
  {
   "cell_type": "code",
   "execution_count": 76,
   "metadata": {},
   "outputs": [
    {
     "name": "stdout",
     "output_type": "stream",
     "text": [
      "krishna\n"
     ]
    }
   ],
   "source": [
    "print(students[6])"
   ]
  },
  {
   "cell_type": "code",
   "execution_count": null,
   "metadata": {},
   "outputs": [],
   "source": [
    "# Modify an element"
   ]
  },
  {
   "cell_type": "code",
   "execution_count": 78,
   "metadata": {},
   "outputs": [
    {
     "name": "stdout",
     "output_type": "stream",
     "text": [
      "['ram', 'chitra', 'rohit', 'neel', 'khushal', 'harshal', 'krishna', 'prajakta', 'raju', 'nisha']\n"
     ]
    }
   ],
   "source": [
    "print(students)"
   ]
  },
  {
   "cell_type": "code",
   "execution_count": 79,
   "metadata": {},
   "outputs": [
    {
     "name": "stdout",
     "output_type": "stream",
     "text": [
      "['ram', 'sachin', 'rohit', 'neel', 'khushal', 'harshal', 'krishna', 'prajakta', 'raju', 'nisha']\n"
     ]
    }
   ],
   "source": [
    "students[1]='sachin'\n",
    "print(students)"
   ]
  },
  {
   "cell_type": "code",
   "execution_count": null,
   "metadata": {},
   "outputs": [],
   "source": [
    "# Delete an element"
   ]
  },
  {
   "cell_type": "code",
   "execution_count": 80,
   "metadata": {},
   "outputs": [
    {
     "name": "stdout",
     "output_type": "stream",
     "text": [
      "['ram', 'sachin', 'rohit', 'neel', 'harshal', 'krishna', 'prajakta', 'raju', 'nisha']\n"
     ]
    }
   ],
   "source": [
    "del students[4]\n",
    "print(students)"
   ]
  },
  {
   "cell_type": "code",
   "execution_count": 89,
   "metadata": {},
   "outputs": [
    {
     "name": "stdout",
     "output_type": "stream",
     "text": [
      "['prajakta', 'rinku', 'mansi', 'sadhana', 'shweta', 'ashwini', 'ruchita', 'roshni', 'nilesh', 'nidhi']\n"
     ]
    }
   ],
   "source": [
    "student=['prajakta','rinku','mansi','sadhana','shweta','ashwini','ruchita','roshni','nilesh','nidhi']\n",
    "print(student)"
   ]
  },
  {
   "cell_type": "code",
   "execution_count": 90,
   "metadata": {},
   "outputs": [
    {
     "name": "stdout",
     "output_type": "stream",
     "text": [
      "['prajakta', 'rinku', 'mansi', 'sadhana', 'shweta', 'ashwini', 'ruchita', 'roshni', 'nilesh', 'nidhi', 'sonal']\n"
     ]
    }
   ],
   "source": [
    "student.append('sonal')\n",
    "print(student)"
   ]
  },
  {
   "cell_type": "code",
   "execution_count": 91,
   "metadata": {},
   "outputs": [
    {
     "name": "stdout",
     "output_type": "stream",
     "text": [
      "['prajakta', 'rinku', 'harsha', 'mansi', 'sadhana', 'shweta', 'ashwini', 'ruchita', 'roshni', 'nilesh', 'nidhi', 'sonal']\n"
     ]
    }
   ],
   "source": [
    "student.insert(2,'harsha')\n",
    "print(student)"
   ]
  },
  {
   "cell_type": "code",
   "execution_count": 92,
   "metadata": {},
   "outputs": [
    {
     "name": "stdout",
     "output_type": "stream",
     "text": [
      "['prajakta', 'rinku', 'harshal', 'mansi', 'sadhana', 'shweta', 'ashwini', 'ruchita', 'roshni', 'nilesh', 'nidhi', 'sonal']\n"
     ]
    }
   ],
   "source": [
    "student[2]='harshal'\n",
    "print(student)"
   ]
  },
  {
   "cell_type": "code",
   "execution_count": 93,
   "metadata": {},
   "outputs": [
    {
     "name": "stdout",
     "output_type": "stream",
     "text": [
      "['prajakta', 'rinku', 'harshal', 'sadhana', 'shweta', 'ashwini', 'ruchita', 'roshni', 'nilesh', 'nidhi', 'sonal']\n"
     ]
    }
   ],
   "source": [
    "del student[3]\n",
    "print(student)"
   ]
  },
  {
   "cell_type": "code",
   "execution_count": null,
   "metadata": {},
   "outputs": [],
   "source": []
  }
 ],
 "metadata": {
  "kernelspec": {
   "display_name": "Python 3",
   "language": "python",
   "name": "python3"
  },
  "language_info": {
   "codemirror_mode": {
    "name": "ipython",
    "version": 3
   },
   "file_extension": ".py",
   "mimetype": "text/x-python",
   "name": "python",
   "nbconvert_exporter": "python",
   "pygments_lexer": "ipython3",
   "version": "3.8.5"
  }
 },
 "nbformat": 4,
 "nbformat_minor": 4
}
